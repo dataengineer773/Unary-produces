{
 "cells": [
  {
   "cell_type": "code",
   "execution_count": 1,
   "id": "f8c1c69e-8c00-476b-a7be-dbef3054b2b2",
   "metadata": {},
   "outputs": [],
   "source": [
    "from collections import Counter\n",
    "\n",
    "ct = Counter('abracadabra')\n"
   ]
  },
  {
   "cell_type": "code",
   "execution_count": 2,
   "id": "41b513ee-ed61-410f-9b3b-759375a1f1d9",
   "metadata": {},
   "outputs": [
    {
     "data": {
      "text/plain": [
       "Counter({'a': 5, 'b': 2, 'r': 2, 'c': 1, 'd': 1})"
      ]
     },
     "execution_count": 2,
     "metadata": {},
     "output_type": "execute_result"
    }
   ],
   "source": [
    "ct"
   ]
  },
  {
   "cell_type": "code",
   "execution_count": 3,
   "id": "31814680-8bf0-497c-9da5-4edca57fc1d1",
   "metadata": {},
   "outputs": [],
   "source": [
    "ct['r'] = -3"
   ]
  },
  {
   "cell_type": "code",
   "execution_count": 4,
   "id": "ed48367d-9bff-4aae-9da2-4147004990e4",
   "metadata": {},
   "outputs": [],
   "source": [
    "ct['d'] = 0"
   ]
  },
  {
   "cell_type": "code",
   "execution_count": 5,
   "id": "a3e3562d-bec8-4749-8286-1dad9bd1e35b",
   "metadata": {},
   "outputs": [
    {
     "data": {
      "text/plain": [
       "Counter({'a': 5, 'b': 2, 'c': 1, 'd': 0, 'r': -3})"
      ]
     },
     "execution_count": 5,
     "metadata": {},
     "output_type": "execute_result"
    }
   ],
   "source": [
    "ct"
   ]
  },
  {
   "cell_type": "code",
   "execution_count": 6,
   "id": "4f3c12c7-8d70-469d-b880-b356d5e1d1df",
   "metadata": {},
   "outputs": [
    {
     "data": {
      "text/plain": [
       "Counter({'a': 5, 'b': 2, 'c': 1})"
      ]
     },
     "execution_count": 6,
     "metadata": {},
     "output_type": "execute_result"
    }
   ],
   "source": [
    "+ct"
   ]
  },
  {
   "cell_type": "code",
   "execution_count": null,
   "id": "9e912df5-2277-4a32-879b-fad708dad30f",
   "metadata": {},
   "outputs": [],
   "source": []
  }
 ],
 "metadata": {
  "kernelspec": {
   "display_name": "Python 3 (ipykernel)",
   "language": "python",
   "name": "python3"
  },
  "language_info": {
   "codemirror_mode": {
    "name": "ipython",
    "version": 3
   },
   "file_extension": ".py",
   "mimetype": "text/x-python",
   "name": "python",
   "nbconvert_exporter": "python",
   "pygments_lexer": "ipython3",
   "version": "3.12.3"
  }
 },
 "nbformat": 4,
 "nbformat_minor": 5
}
